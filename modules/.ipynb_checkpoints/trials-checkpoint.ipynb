{
 "cells": [
  {
   "cell_type": "code",
   "execution_count": 7,
   "metadata": {},
   "outputs": [],
   "source": [
    "import tensorflow as tf\n",
    "import numpy as np\n",
    "import os\n",
    "import cv2\n",
    "import time"
   ]
  },
  {
   "cell_type": "code",
   "execution_count": 8,
   "metadata": {},
   "outputs": [],
   "source": [
    "import config\n",
    "config.init()"
   ]
  },
  {
   "cell_type": "code",
   "execution_count": 9,
   "metadata": {},
   "outputs": [],
   "source": [
    "import model\n",
    "import loss\n",
    "import data\n",
    "import config\n",
    "import importlib"
   ]
  },
  {
   "cell_type": "code",
   "execution_count": 10,
   "metadata": {},
   "outputs": [
    {
     "name": "stdout",
     "output_type": "stream",
     "text": [
      "No: of files : 4\n",
      "['00044_Ichigo' '00045_aaroniero' '00047_Aizen' '00048_Grimmjow']\n"
     ]
    }
   ],
   "source": [
    "importlib.reload(loss)\n",
    "importlib.reload(data)\n",
    "importlib.reload(model)\n",
    "importlib.reload(config)\n",
    "\n",
    "\n",
    "\n",
    "main_dir=config.main_dir\n",
    "training_iter=config.training_iter\n",
    "batch_size=config.batch_size\n",
    "learning_rate=config.learning_rate\n",
    "name_list_path=config.name_list_path\n",
    "\n",
    "name_list=data.file_to_list(name_list_path)\n",
    "print(name_list)\n",
    "\n"
   ]
  },
  {
   "cell_type": "code",
   "execution_count": 11,
   "metadata": {},
   "outputs": [],
   "source": [
    "source_iterator,target_iterator=data.load_data(name_list,batched=True)\n",
    "source=source_iterator.get_next()\n",
    "target=target_iterator.get_next()   "
   ]
  },
  {
   "cell_type": "code",
   "execution_count": 12,
   "metadata": {},
   "outputs": [],
   "source": [
    "def depth_loss(pred,truth,mask):\n",
    "    \"\"\"\n",
    "    pred=nx12xhxwx1\n",
    "    truth=\"\n",
    "    mask=\"\n",
    "    return normalized loss scalar\n",
    "    \"\"\"\n",
    "    loss=tf.subtract(pred,truth)\n",
    "    loss=tf.abs(loss)\n",
    "    loss=tf.multiply(loss,mask)\n",
    "    nloss=tf.reduce_mean(loss)\n",
    "    #nloss=nloss*pred.get_shape()[0].value\n",
    "    return nloss\n",
    "\n",
    "def total_loss(pred,truth):\n",
    "    \"\"\"\n",
    "    pred=nxhxwx5\n",
    "    truth is a tuple\n",
    "    \"\"\"\n",
    "    tf.Print(truth,[truth])\n",
    "    truth=truth[0]\n",
    "    depth_pred=pred[:,:,:,:,0]\n",
    "    depth_truth=truth[:,:,:,:,0]\n",
    "    normal_pred=pred[:,:,:,:,1:4]\n",
    "    normal_truth=truth[:,:,:,:,1:4]\n",
    "    mask_pred=pred[:,:,:,:,4]\n",
    "    mask_truth=truth[:,:,:,:,4]\n",
    "\n",
    "    dl=depth_loss(depth_pred,depth_truth,mask_truth)\n",
    "#     nl=normal_loss(normal_pred,normal_truth,mask_truth)\n",
    "#     ml=mask_loss(mask_pred,mask_truth)\n",
    "#     return (dl+ml+nl)\n",
    "    return(dl)"
   ]
  },
  {
   "cell_type": "code",
   "execution_count": 14,
   "metadata": {},
   "outputs": [
    {
     "name": "stdout",
     "output_type": "stream",
     "text": [
      "(?, 12, 256, 256, 5)\n"
     ]
    }
   ],
   "source": [
    "pred=model.encoderNdecoder(source)"
   ]
  },
  {
   "cell_type": "code",
   "execution_count": 15,
   "metadata": {},
   "outputs": [],
   "source": [
    "dl=total_loss(pred,target)\n",
    "accuracy,_=tf.metrics.accuracy(labels=target,predictions=pred)\n",
    "init=tf.global_variables_initializer()\n",
    "linit=tf.local_variables_initializer()"
   ]
  },
  {
   "cell_type": "code",
   "execution_count": 17,
   "metadata": {},
   "outputs": [
    {
     "name": "stdout",
     "output_type": "stream",
     "text": [
      "reading data of 00044_Ichigo \n",
      "reading data of 00045_aaroniero \n",
      "cost at epoch 1 : 0.9313781261444092\n"
     ]
    },
    {
     "ename": "NameError",
     "evalue": "name 'acc' is not defined",
     "output_type": "error",
     "traceback": [
      "\u001b[0;31m---------------------------------------------------------------------------\u001b[0m",
      "\u001b[0;31mNameError\u001b[0m                                 Traceback (most recent call last)",
      "\u001b[0;32m<ipython-input-17-041d3097baf7>\u001b[0m in \u001b[0;36m<module>\u001b[0;34m()\u001b[0m\n\u001b[1;32m      8\u001b[0m         \u001b[0ml\u001b[0m\u001b[0;34m=\u001b[0m\u001b[0msess\u001b[0m\u001b[0;34m.\u001b[0m\u001b[0mrun\u001b[0m\u001b[0;34m(\u001b[0m\u001b[0mdl\u001b[0m\u001b[0;34m)\u001b[0m\u001b[0;34m\u001b[0m\u001b[0m\n\u001b[1;32m      9\u001b[0m         \u001b[0mprint\u001b[0m\u001b[0;34m(\u001b[0m\u001b[0;34m\"cost at epoch {} : {}\"\u001b[0m\u001b[0;34m.\u001b[0m\u001b[0mformat\u001b[0m\u001b[0;34m(\u001b[0m\u001b[0mepoch\u001b[0m\u001b[0;34m+\u001b[0m\u001b[0;36m1\u001b[0m\u001b[0;34m,\u001b[0m\u001b[0ml\u001b[0m\u001b[0;34m)\u001b[0m\u001b[0;34m)\u001b[0m\u001b[0;34m\u001b[0m\u001b[0m\n\u001b[0;32m---> 10\u001b[0;31m         \u001b[0mprint\u001b[0m\u001b[0;34m(\u001b[0m\u001b[0;34m\"accuracy at epoch {} : {}\"\u001b[0m\u001b[0;34m.\u001b[0m\u001b[0mformat\u001b[0m\u001b[0;34m(\u001b[0m\u001b[0mepoch\u001b[0m\u001b[0;34m+\u001b[0m\u001b[0;36m1\u001b[0m\u001b[0;34m,\u001b[0m\u001b[0macc\u001b[0m\u001b[0;34m)\u001b[0m\u001b[0;34m)\u001b[0m\u001b[0;34m\u001b[0m\u001b[0m\n\u001b[0m\u001b[1;32m     11\u001b[0m     \u001b[0macc\u001b[0m\u001b[0;34m=\u001b[0m\u001b[0msess\u001b[0m\u001b[0;34m.\u001b[0m\u001b[0mrun\u001b[0m\u001b[0;34m(\u001b[0m\u001b[0maccuracy\u001b[0m\u001b[0;34m)\u001b[0m\u001b[0;34m\u001b[0m\u001b[0m\n\u001b[1;32m     12\u001b[0m     \u001b[0mprint\u001b[0m\u001b[0;34m(\u001b[0m\u001b[0;34m\"accuracy at epoch : {}\"\u001b[0m\u001b[0;34m.\u001b[0m\u001b[0mformat\u001b[0m\u001b[0;34m(\u001b[0m\u001b[0macc\u001b[0m\u001b[0;34m)\u001b[0m\u001b[0;34m)\u001b[0m\u001b[0;34m\u001b[0m\u001b[0m\n",
      "\u001b[0;31mNameError\u001b[0m: name 'acc' is not defined"
     ]
    }
   ],
   "source": [
    "tic=time.clock()\n",
    "with tf.Session() as sess:\n",
    "    sess.run(init)\n",
    "    sess.run(linit)\n",
    "    sess.run(source_iterator.initializer)\n",
    "    sess.run(target_iterator.initializer)\n",
    "    for epoch in range(name_list.shape[0]//batch_size):\n",
    "        l=sess.run(dl)\n",
    "        print(\"cost at epoch {} : {}\".format(epoch+1,l))\n",
    "    acc=sess.run(accuracy)\n",
    "    print(\"accuracy at epoch : {}\".format(acc))\n",
    "toc=time.clock()\n",
    "print(\"Time taken {}\".format((toc-tic)/60))"
   ]
  },
  {
   "cell_type": "code",
   "execution_count": null,
   "metadata": {},
   "outputs": [],
   "source": [
    "# pred=model.encoderNdecoder(source)\n",
    "# cost=loss.total_loss(pred,target)\n",
    "# accuracy,_=tf.metrics.accuracy(labels=target_next,predictions=pred)\n",
    "# optimizer=tf.train.AdamOptimizer(learning_rate=learning_rate).minimize(cost)"
   ]
  },
  {
   "cell_type": "code",
   "execution_count": null,
   "metadata": {},
   "outputs": [],
   "source": [
    "# images=tf.placeholder(\"float\",shape=[None,256,256,2])\n",
    "# truth=tf.placeholder(\"float\",shape=[None,12,256,256,5])\n",
    "\n",
    "# pred=model.encoderNdecoder(images)\n",
    "# cost=loss.total_loss(pred,truth)\n",
    "# optimizer=tf.train.AdamOptimizer(learning_rate=learning_rate).minimize(cost)\n",
    "# init=tf.global_variables_initializer()\n",
    "\n",
    "# with tf.Session() as sess:\n",
    "#     sess.run(init)\n",
    "#     for i in range(training_iter):\n",
    "#         for batch in range(len(name_list)//batch_size):\n",
    "#             batch_list=name_list[batch*batch_size:min((batch+1)*batch_size,len(name_list))]\n",
    "#             batch_x=list(map(data.get_subject_source,batch_list))\n",
    "#             batch_y=list(map(data.get_subject_target,batch_list))\n",
    "#             opt=sess.run(optimizer,feed_dict={images:batch_x,truth:batch_y})\n",
    "#             loss=sess.run(cost,feed_dict={images:batch_x,truth:batch_y})\n",
    "#         print(\"iter \"+str(i)+\" loss ={:.6f}\".format(loss))"
   ]
  },
  {
   "cell_type": "code",
   "execution_count": null,
   "metadata": {},
   "outputs": [],
   "source": []
  }
 ],
 "metadata": {
  "kernelspec": {
   "display_name": "Python 3",
   "language": "python",
   "name": "python3"
  },
  "language_info": {
   "codemirror_mode": {
    "name": "ipython",
    "version": 3
   },
   "file_extension": ".py",
   "mimetype": "text/x-python",
   "name": "python",
   "nbconvert_exporter": "python",
   "pygments_lexer": "ipython3",
   "version": "3.6.5"
  }
 },
 "nbformat": 4,
 "nbformat_minor": 2
}
